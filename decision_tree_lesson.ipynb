{
 "cells": [
  {
   "cell_type": "code",
   "execution_count": 2,
   "id": "6a45527f-5f03-4532-88b4-c34b5eed8863",
   "metadata": {},
   "outputs": [],
   "source": [
    "import numpy as np\n",
    "import pandas as pd\n",
    "from io import StringIO"
   ]
  },
  {
   "cell_type": "markdown",
   "id": "520772bf-f1e9-4717-8e5b-6b023ca79b29",
   "metadata": {},
   "source": [
    "## Simple Example"
   ]
  },
  {
   "cell_type": "code",
   "execution_count": 3,
   "id": "ed574b25-074b-4f1d-950f-0288e6581060",
   "metadata": {},
   "outputs": [],
   "source": [
    "# Example data from the lesson\n",
    "df = pd.read_csv(StringIO('''\n",
    "yesterday,temp,today\n",
    "no rain,80,rain\n",
    "no rain,80,rain\n",
    "no rain,80,no rain\n",
    "rain,81,rain\n",
    "rain,81,rain\n",
    "rain,83,rain\n",
    "rain,86,no rain\n",
    "no rain,89,rain\n",
    "rain,89,rain\n",
    "no rain,89,no rain'''))"
   ]
  },
  {
   "cell_type": "code",
   "execution_count": 4,
   "id": "sitting-fitness",
   "metadata": {},
   "outputs": [
    {
     "data": {
      "text/plain": [
       "DecisionTreeClassifier()"
      ]
     },
     "execution_count": 4,
     "metadata": {},
     "output_type": "execute_result"
    }
   ],
   "source": [
    "from sklearn.tree import DecisionTreeClassifier, plot_tree, export_text\n",
    "\n",
    "X, y = df[['temp']], df.today\n",
    "\n",
    "tree = DecisionTreeClassifier()\n",
    "tree.fit(X, y)"
   ]
  },
  {
   "cell_type": "code",
   "execution_count": 5,
   "id": "oriental-infrastructure",
   "metadata": {},
   "outputs": [
    {
     "name": "stdout",
     "output_type": "stream",
     "text": [
      "|--- temp <= 84.50\n",
      "|   |--- temp <= 80.50\n",
      "|   |   |--- class: rain\n",
      "|   |--- temp >  80.50\n",
      "|   |   |--- class: rain\n",
      "|--- temp >  84.50\n",
      "|   |--- temp <= 87.50\n",
      "|   |   |--- class: no rain\n",
      "|   |--- temp >  87.50\n",
      "|   |   |--- class: rain\n",
      "\n"
     ]
    }
   ],
   "source": [
    "print(export_text(tree, feature_names=X.columns.tolist()))"
   ]
  },
  {
   "cell_type": "code",
   "execution_count": null,
   "id": "present-cardiff",
   "metadata": {},
   "outputs": [],
   "source": [
    "plot_tree"
   ]
  },
  {
   "cell_type": "markdown",
   "id": "8297da57-1e53-46b8-abcd-b2ef7a648900",
   "metadata": {},
   "source": [
    "## Titanic Example"
   ]
  },
  {
   "cell_type": "code",
   "execution_count": null,
   "id": "f26ffc8a-3db2-48e8-acae-8e1a93a50181",
   "metadata": {},
   "outputs": [],
   "source": [
    "import acquire\n",
    "import prepare\n",
    "\n",
    "train, validate, test = prepare.prep_titanic(acquire.get_titanic_data())\n",
    "train.head()"
   ]
  },
  {
   "cell_type": "code",
   "execution_count": null,
   "id": "726b8363-3eef-4c71-8b25-76cfb9e45603",
   "metadata": {},
   "outputs": [],
   "source": [
    "X_cols = ['pclass', 'alone', 'Q', 'S']\n",
    "y_col = 'survived'\n",
    "\n",
    "X_train, y_train = train[X_cols], train[y_col]\n",
    "X_validate, y_validate = validate[X_cols], validate[y_col]\n",
    "X_test, y_test = test[X_cols], test[y_col]"
   ]
  },
  {
   "cell_type": "code",
   "execution_count": null,
   "id": "e4bc7928-e829-49e9-91ba-2cbc2d46c226",
   "metadata": {},
   "outputs": [],
   "source": [
    "model1 = DecisionTreeClassifier(max_depth=1)\n",
    "model1.fit(X_train, y_train)\n",
    "\n",
    "print(f'training score: {model1.score(X_train, y_train):.2%}')\n",
    "print(f'validate score: {model1.score(X_validate, y_validate):.2%}')"
   ]
  },
  {
   "cell_type": "code",
   "execution_count": null,
   "id": "e175ac3d-19f7-4d95-8189-a89f43a23e09",
   "metadata": {},
   "outputs": [],
   "source": [
    "# TODO: interpret + visualize model"
   ]
  },
  {
   "cell_type": "code",
   "execution_count": null,
   "id": "ca16e3b4-bb9c-4619-a86b-2927d70583e8",
   "metadata": {},
   "outputs": [],
   "source": [
    "# TODO: create additional models"
   ]
  }
 ],
 "metadata": {
  "kernelspec": {
   "display_name": "Python 3",
   "language": "python",
   "name": "python3"
  },
  "language_info": {
   "codemirror_mode": {
    "name": "ipython",
    "version": 3
   },
   "file_extension": ".py",
   "mimetype": "text/x-python",
   "name": "python",
   "nbconvert_exporter": "python",
   "pygments_lexer": "ipython3",
   "version": "3.8.3"
  }
 },
 "nbformat": 4,
 "nbformat_minor": 5
}
